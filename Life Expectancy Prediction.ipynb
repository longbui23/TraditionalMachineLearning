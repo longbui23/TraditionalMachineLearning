{
 "cells": [
  {
   "cell_type": "markdown",
   "metadata": {
    "id": "EbskizSFNZuS"
   },
   "source": [
    "# Prediction of life expectancy\n",
    "\n",
    "\n",
    "## Overview\n",
    "\n",
    "Advances in medicine, the proliferation of healthcare facilities and improved standards of care have all contributed to the increase in life expectancy over the past few decades. While this may seem like a great achievement for humanity, it has also resulted in more and more elderly people being placed into elderly care and assisted living communities. The ethics, benefits and disadvantages of sending parents to such facilities are controversial; however, this practice has increased the financial burden on both the private sector and the government.\n",
    "\n",
    "We will use a subset of the lifespan dataset, provided by the Centers for Disease Control and Prevention's National Centers for Health Statistics page. The site hosts many open datasets on topics ranging from injury, poverty, women's health, education, health insurance and of course infectious diseases, .... But what you will use is the \"Mean life expectancy by sex, race\" dataset, whose statistics from the 1900s to the present are collected in the United States. We have included a copy of the dataset as **[life_expectancy.csv](https://drive.google.com/file/d/1efDU4iNsXdfDOwmTkLUkUsNxaI8v7--n/view?usp=sharing)**. The dataset only lists life expectancy for whites and blacks, because during most of the collection period it was the two major races that actively recorded their statistics in the United States.\n",
    "\n",
    "## Target\n",
    "\n",
    "* Build a Linear Regression model from the scikit-learn library to extrapolate how long people will live in the future. The private sector and governments reflect these calculations when calculating payments for social security, taxes, infrastructure, etc.\n",
    "\n",
    "* Visualize the model after construction."
   ]
  },
  {
   "cell_type": "code",
   "execution_count": 1,
   "metadata": {
    "id": "sLpcnJrbNZuT"
   },
   "outputs": [],
   "source": [
    "import pandas as pd\n",
    "import numpy as np\n",
    "import matplotlib\n",
    "import matplotlib.pyplot as plt\n",
    "\n",
    "matplotlib.style.use('ggplot') # Look Pretty"
   ]
  },
  {
   "cell_type": "code",
   "execution_count": 2,
   "metadata": {
    "id": "x_o6tM4dNZuh"
   },
   "outputs": [],
   "source": [
    "def drawLine(model, X_test, y_test, title):\n",
    "    fig = plt.figure()\n",
    "    ax = fig.add_subplot(111)\n",
    "    ax.scatter(X_test, y_test, c='g', marker='o')\n",
    "    ax.plot(X_test, model.predict(X_test), color='orange', linewidth=1, alpha=0.7)\n",
    "\n",
    "    print(\"Est 2014 \" + title + \" Life Expectancy: \", model.predict([[2014]])[0])\n",
    "    print(\"Est 2030 \" + title + \" Life Expectancy: \", model.predict([[2030]])[0])\n",
    "    print(\"Est 2045 \" + title + \" Life Expectancy: \", model.predict([[2045]])[0])\n",
    "\n",
    "    score = model.score(X_test, y_test)\n",
    "    title += \" R2: \" + str(score)\n",
    "    ax.set_title(title)\n",
    "\n",
    "    plt.show()"
   ]
  },
  {
   "cell_type": "markdown",
   "metadata": {
    "collapsed": true,
    "id": "6FJs_0ufNZun"
   },
   "source": [
    "## 1. Data Normalization"
   ]
  },
  {
   "cell_type": "code",
   "execution_count": 4,
   "metadata": {
    "id": "bmT8Od0BNZur"
   },
   "outputs": [
    {
     "data": {
      "text/html": [
       "<div>\n",
       "<style scoped>\n",
       "    .dataframe tbody tr th:only-of-type {\n",
       "        vertical-align: middle;\n",
       "    }\n",
       "\n",
       "    .dataframe tbody tr th {\n",
       "        vertical-align: top;\n",
       "    }\n",
       "\n",
       "    .dataframe thead th {\n",
       "        text-align: right;\n",
       "    }\n",
       "</style>\n",
       "<table border=\"1\" class=\"dataframe\">\n",
       "  <thead>\n",
       "    <tr style=\"text-align: right;\">\n",
       "      <th></th>\n",
       "      <th>Year</th>\n",
       "      <th>WhiteMale</th>\n",
       "      <th>WhiteFemale</th>\n",
       "      <th>BlackMale</th>\n",
       "      <th>BlackFemale</th>\n",
       "    </tr>\n",
       "  </thead>\n",
       "  <tbody>\n",
       "    <tr>\n",
       "      <th>0</th>\n",
       "      <td>1900</td>\n",
       "      <td>46.6</td>\n",
       "      <td>48.7</td>\n",
       "      <td>32.5</td>\n",
       "      <td>33.5</td>\n",
       "    </tr>\n",
       "    <tr>\n",
       "      <th>1</th>\n",
       "      <td>1950</td>\n",
       "      <td>66.5</td>\n",
       "      <td>72.2</td>\n",
       "      <td>59.1</td>\n",
       "      <td>62.9</td>\n",
       "    </tr>\n",
       "    <tr>\n",
       "      <th>2</th>\n",
       "      <td>1960</td>\n",
       "      <td>67.4</td>\n",
       "      <td>74.1</td>\n",
       "      <td>61.1</td>\n",
       "      <td>66.3</td>\n",
       "    </tr>\n",
       "    <tr>\n",
       "      <th>3</th>\n",
       "      <td>1970</td>\n",
       "      <td>68.0</td>\n",
       "      <td>75.6</td>\n",
       "      <td>60.0</td>\n",
       "      <td>68.3</td>\n",
       "    </tr>\n",
       "    <tr>\n",
       "      <th>4</th>\n",
       "      <td>1975</td>\n",
       "      <td>69.5</td>\n",
       "      <td>77.3</td>\n",
       "      <td>62.4</td>\n",
       "      <td>71.3</td>\n",
       "    </tr>\n",
       "  </tbody>\n",
       "</table>\n",
       "</div>"
      ],
      "text/plain": [
       "   Year  WhiteMale  WhiteFemale  BlackMale  BlackFemale\n",
       "0  1900       46.6         48.7       32.5         33.5\n",
       "1  1950       66.5         72.2       59.1         62.9\n",
       "2  1960       67.4         74.1       61.1         66.3\n",
       "3  1970       68.0         75.6       60.0         68.3\n",
       "4  1975       69.5         77.3       62.4         71.3"
      ]
     },
     "execution_count": 4,
     "metadata": {},
     "output_type": "execute_result"
    }
   ],
   "source": [
    "#read data\n",
    "x = pd.read_csv('life_expectancy.csv', delimiter='\\t')\n",
    "x.head(5)"
   ]
  },
  {
   "cell_type": "code",
   "execution_count": 5,
   "metadata": {},
   "outputs": [
    {
     "name": "stdout",
     "output_type": "stream",
     "text": [
      "(40, 5)\n",
      "              Year  WhiteMale  WhiteFemale  BlackMale  BlackFemale\n",
      "count    40.000000  40.000000    40.000000  40.000000    40.000000\n",
      "mean   1991.250000  72.730000    78.592500  65.912500    73.262500\n",
      "std      20.536085   4.968681     5.200561   6.422284     7.157592\n",
      "min    1900.000000  46.600000    48.700000  32.500000    33.500000\n",
      "25%    1984.750000  71.800000    78.700000  64.575000    73.400000\n",
      "50%    1994.500000  73.350000    79.650000  65.250000    73.900000\n",
      "75%    2004.250000  75.500000    80.500000  69.425000    76.125000\n",
      "max    2014.000000  76.700000    81.400000  72.500000    78.400000\n"
     ]
    }
   ],
   "source": [
    "#investigating\n",
    "print(x.shape)\n",
    "print(x.describe())"
   ]
  },
  {
   "cell_type": "code",
   "execution_count": 32,
   "metadata": {
    "id": "fjM2b1ZqNZuz"
   },
   "outputs": [],
   "source": [
    "#create_model\n",
    "from sklearn import linear_model\n",
    "\n",
    "model = linear_model.LinearRegression(fit_intercept=False)"
   ]
  },
  {
   "cell_type": "code",
   "execution_count": 33,
   "metadata": {
    "id": "eOnsQY5gNZu7"
   },
   "outputs": [],
   "source": [
    "#split data sets\n",
    "data_train = x[x['Year'] < 1986]\n",
    "X_train = data_train[['Year']]\n",
    "y_train = data_train[['WhiteMale']]"
   ]
  },
  {
   "cell_type": "markdown",
   "metadata": {
    "id": "66NvFjtzNZvE"
   },
   "source": [
    "## 2. Train model"
   ]
  },
  {
   "cell_type": "code",
   "execution_count": 36,
   "metadata": {
    "id": "nig1mhj0NZvF"
   },
   "outputs": [
    {
     "name": "stdout",
     "output_type": "stream",
     "text": [
      "Est 2014 Linear Regression Life Expectancy:  [69.51813792]\n",
      "Est 2030 Linear Regression Life Expectancy:  [70.07041707]\n",
      "Est 2045 Linear Regression Life Expectancy:  [70.58817877]\n"
     ]
    },
    {
     "name": "stderr",
     "output_type": "stream",
     "text": [
      "C:\\Users\\Dell\\anaconda3\\lib\\site-packages\\sklearn\\base.py:450: UserWarning: X does not have valid feature names, but LinearRegression was fitted with feature names\n",
      "  warnings.warn(\n",
      "C:\\Users\\Dell\\anaconda3\\lib\\site-packages\\sklearn\\base.py:450: UserWarning: X does not have valid feature names, but LinearRegression was fitted with feature names\n",
      "  warnings.warn(\n",
      "C:\\Users\\Dell\\anaconda3\\lib\\site-packages\\sklearn\\base.py:450: UserWarning: X does not have valid feature names, but LinearRegression was fitted with feature names\n",
      "  warnings.warn(\n"
     ]
    },
    {
     "data": {
      "image/png": "[encoded data removed]",
      "text/plain": [
       "<Figure size 640x480 with 1 Axes>"
      ]
     },
     "metadata": {},
     "output_type": "display_data"
    }
   ],
   "source": [
    "#train model\n",
    "model.fit(X_train, y_train)\n",
    "title='Linear Regression'\n",
    "\n",
    "#drawLine\n",
    "fig = plt.figure()\n",
    "ax = fig.add_subplot(111)\n",
    "ax.scatter(X_train, y_train, c='g', marker='o')\n",
    "ax.plot(X_train, model.predict(X_train), color='orange', linewidth=1, alpha=0.7)\n",
    "\n",
    "print(\"Est 2014 \" + title + \" Life Expectancy: \", model.predict([[2014]])[0])\n",
    "print(\"Est 2030 \" + title + \" Life Expectancy: \", model.predict([[2030]])[0])\n",
    "print(\"Est 2045 \" + title + \" Life Expectancy: \", model.predict([[2045]])[0])\n",
    "\n",
    "score = model.score(X_train, y_train)\n",
    "title += \" R2: \" + str(score)\n",
    "ax.set_title(title)\n",
    "\n",
    "plt.show()"
   ]
  },
  {
   "cell_type": "markdown",
   "metadata": {
    "id": "MBTZzIRsQCRj"
   },
   "source": [
    "## 3. Model evaluation"
   ]
  },
  {
   "cell_type": "code",
   "execution_count": 45,
   "metadata": {
    "id": "LFoZM7_NQKqw"
   },
   "outputs": [
    {
     "data": {
      "text/plain": [
       "array([[68.55164941],\n",
       "       [68.58616685],\n",
       "       [68.6206843 ],\n",
       "       [68.65520175],\n",
       "       [68.6897192 ],\n",
       "       [68.72423664],\n",
       "       [68.75875409],\n",
       "       [68.79327154],\n",
       "       [68.82778898],\n",
       "       [68.86230643],\n",
       "       [68.89682388],\n",
       "       [68.93134132],\n",
       "       [68.96585877],\n",
       "       [69.00037622],\n",
       "       [69.03489366],\n",
       "       [69.06941111],\n",
       "       [69.10392856],\n",
       "       [69.138446  ],\n",
       "       [69.17296345],\n",
       "       [69.2074809 ],\n",
       "       [69.24199834],\n",
       "       [69.27651579],\n",
       "       [69.31103324],\n",
       "       [69.34555068],\n",
       "       [69.38006813],\n",
       "       [69.41458558],\n",
       "       [69.44910303],\n",
       "       [69.48362047],\n",
       "       [69.51813792]])"
      ]
     },
     "execution_count": 45,
     "metadata": {},
     "output_type": "execute_result"
    }
   ],
   "source": [
    "#initiate var\n",
    "data_test =  x[x['Year'] >= 1986]\n",
    "x_test = data_test[['Year']]\n",
    "y_test = data_test[['WhiteMale']]\n",
    "\n",
    "#predict by model\n",
    "model.predict(x_test)"
   ]
  },
  {
   "cell_type": "markdown",
   "metadata": {
    "id": "JedI0_4mNZvN"
   },
   "source": [
    "In tuổi thọ thực tế của 'WhiteMale' 2014 từ tập dữ liệu đã tải"
   ]
  },
  {
   "cell_type": "code",
   "execution_count": 43,
   "metadata": {
    "id": "taMzWaXENZvO"
   },
   "outputs": [
    {
     "data": {
      "text/html": [
       "<div>\n",
       "<style scoped>\n",
       "    .dataframe tbody tr th:only-of-type {\n",
       "        vertical-align: middle;\n",
       "    }\n",
       "\n",
       "    .dataframe tbody tr th {\n",
       "        vertical-align: top;\n",
       "    }\n",
       "\n",
       "    .dataframe thead th {\n",
       "        text-align: right;\n",
       "    }\n",
       "</style>\n",
       "<table border=\"1\" class=\"dataframe\">\n",
       "  <thead>\n",
       "    <tr style=\"text-align: right;\">\n",
       "      <th></th>\n",
       "      <th>WhiteMale</th>\n",
       "    </tr>\n",
       "  </thead>\n",
       "  <tbody>\n",
       "    <tr>\n",
       "      <th>11</th>\n",
       "      <td>71.9</td>\n",
       "    </tr>\n",
       "    <tr>\n",
       "      <th>12</th>\n",
       "      <td>72.1</td>\n",
       "    </tr>\n",
       "    <tr>\n",
       "      <th>13</th>\n",
       "      <td>72.2</td>\n",
       "    </tr>\n",
       "    <tr>\n",
       "      <th>14</th>\n",
       "      <td>72.5</td>\n",
       "    </tr>\n",
       "    <tr>\n",
       "      <th>15</th>\n",
       "      <td>72.7</td>\n",
       "    </tr>\n",
       "  </tbody>\n",
       "</table>\n",
       "</div>"
      ],
      "text/plain": [
       "    WhiteMale\n",
       "11       71.9\n",
       "12       72.1\n",
       "13       72.2\n",
       "14       72.5\n",
       "15       72.7"
      ]
     },
     "execution_count": 43,
     "metadata": {},
     "output_type": "execute_result"
    }
   ],
   "source": [
    "y_test.head()"
   ]
  },
  {
   "cell_type": "markdown",
   "metadata": {
    "id": "RaU2b5J8NZvU"
   },
   "source": [
    "Lặp lại quá trình, nhưng thay vì cho WhiteMale, lần này chọn BlackFemale. Tạo một lát cho BlackFemales, fit mô hình, sau đó gọi `drawLine`. Cuối cùng, hãy in ra tuổi thọ thực tế của BlackFemale 2014:"
   ]
  },
  {
   "cell_type": "code",
   "execution_count": 57,
   "metadata": {
    "id": "WzCxoeVENZvV"
   },
   "outputs": [],
   "source": [
    "#split data sets\n",
    "data_train = x[x['Year'] < 1986]\n",
    "X_train = data_train[['Year']]\n",
    "y_train = data_train[['BlackFemale']]"
   ]
  },
  {
   "cell_type": "code",
   "execution_count": 53,
   "metadata": {},
   "outputs": [],
   "source": [
    "#model\n",
    "BlackFemale = linear_model.LinearRegression(fit_intercept=False)"
   ]
  },
  {
   "cell_type": "code",
   "execution_count": 54,
   "metadata": {},
   "outputs": [
    {
     "data": {
      "text/plain": [
       "LinearRegression(fit_intercept=False)"
      ]
     },
     "execution_count": 54,
     "metadata": {},
     "output_type": "execute_result"
    }
   ],
   "source": [
    "#training\n",
    "BlackFemale.fit(X_train, y_train)"
   ]
  },
  {
   "cell_type": "code",
   "execution_count": 55,
   "metadata": {},
   "outputs": [
    {
     "name": "stdout",
     "output_type": "stream",
     "text": [
      "Est 2014 Linear Regression Life Expectancy:  [69.51813792]\n",
      "Est 2030 Linear Regression Life Expectancy:  [70.07041707]\n",
      "Est 2045 Linear Regression Life Expectancy:  [70.58817877]\n"
     ]
    },
    {
     "name": "stderr",
     "output_type": "stream",
     "text": [
      "C:\\Users\\Dell\\anaconda3\\lib\\site-packages\\sklearn\\base.py:450: UserWarning: X does not have valid feature names, but LinearRegression was fitted with feature names\n",
      "  warnings.warn(\n",
      "C:\\Users\\Dell\\anaconda3\\lib\\site-packages\\sklearn\\base.py:450: UserWarning: X does not have valid feature names, but LinearRegression was fitted with feature names\n",
      "  warnings.warn(\n",
      "C:\\Users\\Dell\\anaconda3\\lib\\site-packages\\sklearn\\base.py:450: UserWarning: X does not have valid feature names, but LinearRegression was fitted with feature names\n",
      "  warnings.warn(\n"
     ]
    },
    {
     "data": {
      "image/png": "[encoded data removed]",
      "text/plain": [
       "<Figure size 640x480 with 1 Axes>"
      ]
     },
     "metadata": {},
     "output_type": "display_data"
    }
   ],
   "source": [
    "#title\n",
    "title='Linear Regression'\n",
    "\n",
    "#drawLine\n",
    "fig = plt.figure()\n",
    "ax = fig.add_subplot(111)\n",
    "ax.scatter(X_train, y_train, c='g', marker='o')\n",
    "ax.plot(X_train, BlackFemale.predict(X_train), color='orange', linewidth=1, alpha=0.7)\n",
    "\n",
    "print(\"Est 2014 \" + title + \" Life Expectancy: \", model.predict([[2014]])[0])\n",
    "print(\"Est 2030 \" + title + \" Life Expectancy: \", model.predict([[2030]])[0])\n",
    "print(\"Est 2045 \" + title + \" Life Expectancy: \", model.predict([[2045]])[0])\n",
    "\n",
    "score = model.score(X_train, y_train)\n",
    "title += \" R2: \" + str(score)\n",
    "ax.set_title(title)\n",
    "\n",
    "plt.show()"
   ]
  },
  {
   "cell_type": "markdown",
   "metadata": {
    "id": "nmOKKBrmNZvb"
   },
   "source": [
    "Correlation Matrix:"
   ]
  },
  {
   "cell_type": "code",
   "execution_count": 67,
   "metadata": {
    "id": "VHq2oDlGNZvd"
   },
   "outputs": [
    {
     "data": {
      "image/png": "[encoded data removed]",
      "text/plain": [
       "<Figure size 480x480 with 1 Axes>"
      ]
     },
     "metadata": {},
     "output_type": "display_data"
    }
   ],
   "source": [
    "plt.matshow(x.corr())\n",
    "plt.show()"
   ]
  }
 ],
 "metadata": {
  "anaconda-cloud": {},
  "colab": {
   "provenance": []
  },
  "kernelspec": {
   "display_name": "Python 3 (ipykernel)",
   "language": "python",
   "name": "python3"
  },
  "language_info": {
   "codemirror_mode": {
    "name": "ipython",
    "version": 3
   },
   "file_extension": ".py",
   "mimetype": "text/x-python",
   "name": "python",
   "nbconvert_exporter": "python",
   "pygments_lexer": "ipython3",
   "version": "3.9.13"
  },
  "toc": {
   "colors": {
    "hover_highlight": "#DAA520",
    "running_highlight": "#FF0000",
    "selected_highlight": "#FFD700"
   },
   "moveMenuLeft": true,
   "nav_menu": {
    "height": "58px",
    "width": "252px"
   },
   "navigate_menu": true,
   "number_sections": true,
   "sideBar": true,
   "threshold": 4,
   "toc_cell": false,
   "toc_section_display": "block",
   "toc_window_display": false,
   "widenNotebook": false
  }
 },
 "nbformat": 4,
 "nbformat_minor": 1
}
