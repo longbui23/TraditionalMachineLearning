{
 "cells": [
  {
   "cell_type": "code",
   "execution_count": 3,
   "id": "c56444b7",
   "metadata": {},
   "outputs": [
    {
     "name": "stdout",
     "output_type": "stream",
     "text": [
      "Collecting xgboost\n",
      "  Downloading xgboost-2.0.0-py3-none-win_amd64.whl (99.7 MB)\n",
      "     ---------------------------------------- 99.7/99.7 MB 3.2 MB/s eta 0:00:00\n",
      "Requirement already satisfied: numpy in c:\\users\\dell\\anaconda3\\lib\\site-packages (from xgboost) (1.24.4)\n",
      "Requirement already satisfied: scipy in c:\\users\\dell\\anaconda3\\lib\\site-packages (from xgboost) (1.9.1)\n",
      "Installing collected packages: xgboost\n",
      "Successfully installed xgboost-2.0.0\n"
     ]
    }
   ],
   "source": [
    "!pip install xgboost"
   ]
  },
  {
   "cell_type": "code",
   "execution_count": 4,
   "id": "688f7436",
   "metadata": {},
   "outputs": [],
   "source": [
    "#import packages\n",
    "import numpy as np\n",
    "import pandas as pd\n",
    "\n",
    "import matplotlib.pyplot as plt\n",
    "import seaborn as sns\n",
    "\n",
    "from sklearn.model_selection import RandomizedSearchCV\n",
    "from sklearn.ensemble import GradientBoostingClassifier\n",
    "from xgboost.sklearn import XGBClassifier"
   ]
  },
  {
   "cell_type": "code",
   "execution_count": 6,
   "id": "03af1707",
   "metadata": {},
   "outputs": [
    {
     "data": {
      "text/html": [
       "<div>\n",
       "<style scoped>\n",
       "    .dataframe tbody tr th:only-of-type {\n",
       "        vertical-align: middle;\n",
       "    }\n",
       "\n",
       "    .dataframe tbody tr th {\n",
       "        vertical-align: top;\n",
       "    }\n",
       "\n",
       "    .dataframe thead th {\n",
       "        text-align: right;\n",
       "    }\n",
       "</style>\n",
       "<table border=\"1\" class=\"dataframe\">\n",
       "  <thead>\n",
       "    <tr style=\"text-align: right;\">\n",
       "      <th></th>\n",
       "      <th>satisfaction_level</th>\n",
       "      <th>last_evaluation</th>\n",
       "      <th>number_project</th>\n",
       "      <th>average_montly_hours</th>\n",
       "      <th>time_spend_company</th>\n",
       "      <th>Work_accident</th>\n",
       "      <th>left</th>\n",
       "      <th>promotion_last_5years</th>\n",
       "      <th>sales</th>\n",
       "      <th>salary</th>\n",
       "    </tr>\n",
       "  </thead>\n",
       "  <tbody>\n",
       "    <tr>\n",
       "      <th>0</th>\n",
       "      <td>0.42</td>\n",
       "      <td>0.46</td>\n",
       "      <td>2</td>\n",
       "      <td>150</td>\n",
       "      <td>3</td>\n",
       "      <td>0</td>\n",
       "      <td>1</td>\n",
       "      <td>0</td>\n",
       "      <td>sales</td>\n",
       "      <td>medium</td>\n",
       "    </tr>\n",
       "    <tr>\n",
       "      <th>1</th>\n",
       "      <td>0.66</td>\n",
       "      <td>0.77</td>\n",
       "      <td>2</td>\n",
       "      <td>171</td>\n",
       "      <td>2</td>\n",
       "      <td>0</td>\n",
       "      <td>0</td>\n",
       "      <td>0</td>\n",
       "      <td>technical</td>\n",
       "      <td>medium</td>\n",
       "    </tr>\n",
       "    <tr>\n",
       "      <th>2</th>\n",
       "      <td>0.55</td>\n",
       "      <td>0.49</td>\n",
       "      <td>5</td>\n",
       "      <td>240</td>\n",
       "      <td>3</td>\n",
       "      <td>0</td>\n",
       "      <td>0</td>\n",
       "      <td>0</td>\n",
       "      <td>technical</td>\n",
       "      <td>high</td>\n",
       "    </tr>\n",
       "    <tr>\n",
       "      <th>3</th>\n",
       "      <td>0.22</td>\n",
       "      <td>0.88</td>\n",
       "      <td>4</td>\n",
       "      <td>213</td>\n",
       "      <td>3</td>\n",
       "      <td>1</td>\n",
       "      <td>0</td>\n",
       "      <td>0</td>\n",
       "      <td>technical</td>\n",
       "      <td>medium</td>\n",
       "    </tr>\n",
       "    <tr>\n",
       "      <th>4</th>\n",
       "      <td>0.20</td>\n",
       "      <td>0.72</td>\n",
       "      <td>6</td>\n",
       "      <td>224</td>\n",
       "      <td>4</td>\n",
       "      <td>0</td>\n",
       "      <td>1</td>\n",
       "      <td>0</td>\n",
       "      <td>technical</td>\n",
       "      <td>medium</td>\n",
       "    </tr>\n",
       "  </tbody>\n",
       "</table>\n",
       "</div>"
      ],
      "text/plain": [
       "   satisfaction_level  last_evaluation  number_project  average_montly_hours  \\\n",
       "0                0.42             0.46               2                   150   \n",
       "1                0.66             0.77               2                   171   \n",
       "2                0.55             0.49               5                   240   \n",
       "3                0.22             0.88               4                   213   \n",
       "4                0.20             0.72               6                   224   \n",
       "\n",
       "   time_spend_company  Work_accident  left  promotion_last_5years      sales  \\\n",
       "0                   3              0     1                      0      sales   \n",
       "1                   2              0     0                      0  technical   \n",
       "2                   3              0     0                      0  technical   \n",
       "3                   3              1     0                      0  technical   \n",
       "4                   4              0     1                      0  technical   \n",
       "\n",
       "   salary  \n",
       "0  medium  \n",
       "1  medium  \n",
       "2    high  \n",
       "3  medium  \n",
       "4  medium  "
      ]
     },
     "execution_count": 6,
     "metadata": {},
     "output_type": "execute_result"
    }
   ],
   "source": [
    "df = pd.read_csv('hr_train.csv')\n",
    "df.head()"
   ]
  },
  {
   "cell_type": "code",
   "execution_count": 32,
   "id": "ce051a81",
   "metadata": {
    "scrolled": true
   },
   "outputs": [
    {
     "name": "stdout",
     "output_type": "stream",
     "text": [
      "<class 'pandas.core.frame.DataFrame'>\n",
      "RangeIndex: 10499 entries, 0 to 10498\n",
      "Data columns (total 10 columns):\n",
      " #   Column                 Non-Null Count  Dtype  \n",
      "---  ------                 --------------  -----  \n",
      " 0   satisfaction_level     10499 non-null  float64\n",
      " 1   last_evaluation        10499 non-null  float64\n",
      " 2   number_project         10499 non-null  int64  \n",
      " 3   average_montly_hours   10499 non-null  int64  \n",
      " 4   time_spend_company     10499 non-null  int64  \n",
      " 5   Work_accident          10499 non-null  int64  \n",
      " 6   left                   10499 non-null  int64  \n",
      " 7   promotion_last_5years  10499 non-null  int64  \n",
      " 8   sales                  10499 non-null  object \n",
      " 9   salary                 10499 non-null  object \n",
      "dtypes: float64(2), int64(6), object(2)\n",
      "memory usage: 820.4+ KB\n"
     ]
    }
   ],
   "source": [
    "df.info()"
   ]
  },
  {
   "cell_type": "code",
   "execution_count": 33,
   "id": "1aae2f65",
   "metadata": {},
   "outputs": [
    {
     "data": {
      "text/html": [
       "<div>\n",
       "<style scoped>\n",
       "    .dataframe tbody tr th:only-of-type {\n",
       "        vertical-align: middle;\n",
       "    }\n",
       "\n",
       "    .dataframe tbody tr th {\n",
       "        vertical-align: top;\n",
       "    }\n",
       "\n",
       "    .dataframe thead th {\n",
       "        text-align: right;\n",
       "    }\n",
       "</style>\n",
       "<table border=\"1\" class=\"dataframe\">\n",
       "  <thead>\n",
       "    <tr style=\"text-align: right;\">\n",
       "      <th></th>\n",
       "      <th>satisfaction_level</th>\n",
       "      <th>last_evaluation</th>\n",
       "      <th>number_project</th>\n",
       "      <th>average_montly_hours</th>\n",
       "      <th>time_spend_company</th>\n",
       "      <th>Work_accident</th>\n",
       "      <th>left</th>\n",
       "      <th>promotion_last_5years</th>\n",
       "    </tr>\n",
       "  </thead>\n",
       "  <tbody>\n",
       "    <tr>\n",
       "      <th>count</th>\n",
       "      <td>10499.000000</td>\n",
       "      <td>10499.000000</td>\n",
       "      <td>10499.000000</td>\n",
       "      <td>10499.000000</td>\n",
       "      <td>10499.000000</td>\n",
       "      <td>10499.000000</td>\n",
       "      <td>10499.000000</td>\n",
       "      <td>10499.000000</td>\n",
       "    </tr>\n",
       "    <tr>\n",
       "      <th>mean</th>\n",
       "      <td>0.612683</td>\n",
       "      <td>0.717131</td>\n",
       "      <td>3.808553</td>\n",
       "      <td>201.059815</td>\n",
       "      <td>3.494238</td>\n",
       "      <td>0.144299</td>\n",
       "      <td>0.292885</td>\n",
       "      <td>0.021716</td>\n",
       "    </tr>\n",
       "    <tr>\n",
       "      <th>std</th>\n",
       "      <td>0.248578</td>\n",
       "      <td>0.171483</td>\n",
       "      <td>1.230572</td>\n",
       "      <td>49.959332</td>\n",
       "      <td>1.453227</td>\n",
       "      <td>0.351410</td>\n",
       "      <td>0.455108</td>\n",
       "      <td>0.145763</td>\n",
       "    </tr>\n",
       "    <tr>\n",
       "      <th>min</th>\n",
       "      <td>0.090000</td>\n",
       "      <td>0.360000</td>\n",
       "      <td>2.000000</td>\n",
       "      <td>96.000000</td>\n",
       "      <td>2.000000</td>\n",
       "      <td>0.000000</td>\n",
       "      <td>0.000000</td>\n",
       "      <td>0.000000</td>\n",
       "    </tr>\n",
       "    <tr>\n",
       "      <th>25%</th>\n",
       "      <td>0.440000</td>\n",
       "      <td>0.560000</td>\n",
       "      <td>3.000000</td>\n",
       "      <td>156.000000</td>\n",
       "      <td>3.000000</td>\n",
       "      <td>0.000000</td>\n",
       "      <td>0.000000</td>\n",
       "      <td>0.000000</td>\n",
       "    </tr>\n",
       "    <tr>\n",
       "      <th>50%</th>\n",
       "      <td>0.640000</td>\n",
       "      <td>0.720000</td>\n",
       "      <td>4.000000</td>\n",
       "      <td>200.000000</td>\n",
       "      <td>3.000000</td>\n",
       "      <td>0.000000</td>\n",
       "      <td>0.000000</td>\n",
       "      <td>0.000000</td>\n",
       "    </tr>\n",
       "    <tr>\n",
       "      <th>75%</th>\n",
       "      <td>0.820000</td>\n",
       "      <td>0.870000</td>\n",
       "      <td>5.000000</td>\n",
       "      <td>245.000000</td>\n",
       "      <td>4.000000</td>\n",
       "      <td>0.000000</td>\n",
       "      <td>1.000000</td>\n",
       "      <td>0.000000</td>\n",
       "    </tr>\n",
       "    <tr>\n",
       "      <th>max</th>\n",
       "      <td>1.000000</td>\n",
       "      <td>1.000000</td>\n",
       "      <td>7.000000</td>\n",
       "      <td>310.000000</td>\n",
       "      <td>10.000000</td>\n",
       "      <td>1.000000</td>\n",
       "      <td>1.000000</td>\n",
       "      <td>1.000000</td>\n",
       "    </tr>\n",
       "  </tbody>\n",
       "</table>\n",
       "</div>"
      ],
      "text/plain": [
       "       satisfaction_level  last_evaluation  number_project  \\\n",
       "count        10499.000000     10499.000000    10499.000000   \n",
       "mean             0.612683         0.717131        3.808553   \n",
       "std              0.248578         0.171483        1.230572   \n",
       "min              0.090000         0.360000        2.000000   \n",
       "25%              0.440000         0.560000        3.000000   \n",
       "50%              0.640000         0.720000        4.000000   \n",
       "75%              0.820000         0.870000        5.000000   \n",
       "max              1.000000         1.000000        7.000000   \n",
       "\n",
       "       average_montly_hours  time_spend_company  Work_accident          left  \\\n",
       "count          10499.000000        10499.000000   10499.000000  10499.000000   \n",
       "mean             201.059815            3.494238       0.144299      0.292885   \n",
       "std               49.959332            1.453227       0.351410      0.455108   \n",
       "min               96.000000            2.000000       0.000000      0.000000   \n",
       "25%              156.000000            3.000000       0.000000      0.000000   \n",
       "50%              200.000000            3.000000       0.000000      0.000000   \n",
       "75%              245.000000            4.000000       0.000000      1.000000   \n",
       "max              310.000000           10.000000       1.000000      1.000000   \n",
       "\n",
       "       promotion_last_5years  \n",
       "count           10499.000000  \n",
       "mean                0.021716  \n",
       "std                 0.145763  \n",
       "min                 0.000000  \n",
       "25%                 0.000000  \n",
       "50%                 0.000000  \n",
       "75%                 0.000000  \n",
       "max                 1.000000  "
      ]
     },
     "execution_count": 33,
     "metadata": {},
     "output_type": "execute_result"
    }
   ],
   "source": [
    "df.describe()"
   ]
  },
  {
   "cell_type": "code",
   "execution_count": 9,
   "id": "61b386f3",
   "metadata": {},
   "outputs": [
    {
     "data": {
      "text/plain": [
       "0    7424\n",
       "1    3075\n",
       "Name: left, dtype: int64"
      ]
     },
     "execution_count": 9,
     "metadata": {},
     "output_type": "execute_result"
    }
   ],
   "source": [
    "df.left.value_counts()"
   ]
  },
  {
   "cell_type": "code",
   "execution_count": 31,
   "id": "42cc1ae7",
   "metadata": {
    "scrolled": true
   },
   "outputs": [
    {
     "name": "stdout",
     "output_type": "stream",
     "text": [
      "There are 29.29 % of employees left the company.\n"
     ]
    }
   ],
   "source": [
    "print(f\"There are\", (round(df[df['left']==1].left.sum()/len(df.left)*100,2)), \"% of employees left the company.\")"
   ]
  },
  {
   "cell_type": "code",
   "execution_count": 41,
   "id": "c447f3b4",
   "metadata": {},
   "outputs": [],
   "source": [
    "def report(results, n_top=3):\n",
    "    for i in range(1, n_top + 1):\n",
    "        candidates = np.flatnonzero(results['rank_test_score'] == i)\n",
    "        for candidate in candidates:\n",
    "            print(\"Model with rank: {0}\".format(i))\n",
    "            print(\"Mean validation score: {0:.3f} (std: {1:.5f})\".format(\n",
    "                  results['mean_test_score'][candidate],\n",
    "                  results['std_test_score'][candidate]))\n",
    "            print(\"Parameters: {0}\".format(results['params'][candidate]))\n",
    "            print(\"\")"
   ]
  },
  {
   "cell_type": "code",
   "execution_count": 42,
   "id": "544eddc3",
   "metadata": {},
   "outputs": [],
   "source": [
    "xgb_params = {  \n",
    "                \"learning_rate\":[0.01,0.05,0.1,0.3,0.5],\n",
    "                \"gamma\":[i/10.0 for i in range(0,5)],\n",
    "                \"max_depth\": [2,3,4,5,6,7,8],\n",
    "                \"min_child_weight\":[1,2,5,10],\n",
    "                \"max_delta_step\":[0,1,2,5,10],\n",
    "                \"subsample\":[i/10.0 for i in range(5,10)],\n",
    "                \"colsample_bytree\":[i/10.0 for i in range(5,10)],\n",
    "                \"colsample_bylevel\":[i/10.0 for i in range(5,10)],\n",
    "                \"reg_lambda\":[1e-5, 1e-2, 0.1, 1, 100], \n",
    "                \"reg_alpha\":[1e-5, 1e-2, 0.1, 1, 100],\n",
    "                \"scale_pos_weight\":[1,2,3,4,5,6,7,8,9],\n",
    "                \"n_estimators\":[100,500,700,1000]\n",
    "             }"
   ]
  },
  {
   "cell_type": "code",
   "execution_count": 40,
   "id": "e2953141",
   "metadata": {},
   "outputs": [],
   "source": [
    "xgb=XGBClassifier(objective='binary:logistic')"
   ]
  },
  {
   "cell_type": "code",
   "execution_count": 44,
   "id": "13b7da1d",
   "metadata": {},
   "outputs": [],
   "source": [
    "n_iter=10\n",
    "\n",
    "random_search=RandomizedSearchCV(xgb,n_jobs=-1,cv=5,n_iter=n_iter,scoring='roc_auc',\n",
    "                                 param_distributions=xgb_params)"
   ]
  },
  {
   "cell_type": "code",
   "execution_count": 49,
   "id": "035dd41b",
   "metadata": {},
   "outputs": [],
   "source": [
    "X_train = df.drop(['left','sales','salary'],axis=1)\n",
    "y_train = df['left']"
   ]
  },
  {
   "cell_type": "code",
   "execution_count": 50,
   "id": "3312cc81",
   "metadata": {},
   "outputs": [
    {
     "data": {
      "text/plain": [
       "RandomizedSearchCV(cv=5,\n",
       "                   estimator=XGBClassifier(base_score=None, booster=None,\n",
       "                                           callbacks=None,\n",
       "                                           colsample_bylevel=None,\n",
       "                                           colsample_bynode=None,\n",
       "                                           colsample_bytree=None, device=None,\n",
       "                                           early_stopping_rounds=None,\n",
       "                                           enable_categorical=False,\n",
       "                                           eval_metric=None, feature_types=None,\n",
       "                                           gamma=None, grow_policy=None,\n",
       "                                           importance_type=None,\n",
       "                                           interaction_constraints=None,\n",
       "                                           learning_rate...\n",
       "                                        'gamma': [0.0, 0.1, 0.2, 0.3, 0.4],\n",
       "                                        'learning_rate': [0.01, 0.05, 0.1, 0.3,\n",
       "                                                          0.5],\n",
       "                                        'max_delta_step': [0, 1, 2, 5, 10],\n",
       "                                        'max_depth': [2, 3, 4, 5, 6, 7, 8],\n",
       "                                        'min_child_weight': [1, 2, 5, 10],\n",
       "                                        'n_estimators': [100, 500, 700, 1000],\n",
       "                                        'reg_alpha': [1e-05, 0.01, 0.1, 1, 100],\n",
       "                                        'reg_lambda': [1e-05, 0.01, 0.1, 1,\n",
       "                                                       100],\n",
       "                                        'scale_pos_weight': [1, 2, 3, 4, 5, 6,\n",
       "                                                             7, 8, 9],\n",
       "                                        'subsample': [0.5, 0.6, 0.7, 0.8, 0.9]},\n",
       "                   scoring='roc_auc')"
      ]
     },
     "execution_count": 50,
     "metadata": {},
     "output_type": "execute_result"
    }
   ],
   "source": [
    "random_search.fit(X_train, y_train)"
   ]
  },
  {
   "cell_type": "code",
   "execution_count": 51,
   "id": "114368f2",
   "metadata": {},
   "outputs": [
    {
     "name": "stdout",
     "output_type": "stream",
     "text": [
      "Model with rank: 1\n",
      "Mean validation score: 0.838 (std: 0.01981)\n",
      "Parameters: {'subsample': 0.9, 'scale_pos_weight': 4, 'reg_lambda': 1e-05, 'reg_alpha': 1, 'n_estimators': 100, 'min_child_weight': 2, 'max_depth': 2, 'max_delta_step': 1, 'learning_rate': 0.1, 'gamma': 0.0, 'colsample_bytree': 0.9, 'colsample_bylevel': 0.9}\n",
      "\n",
      "Model with rank: 2\n",
      "Mean validation score: 0.837 (std: 0.01898)\n",
      "Parameters: {'subsample': 0.7, 'scale_pos_weight': 2, 'reg_lambda': 1e-05, 'reg_alpha': 100, 'n_estimators': 100, 'min_child_weight': 1, 'max_depth': 8, 'max_delta_step': 1, 'learning_rate': 0.1, 'gamma': 0.1, 'colsample_bytree': 0.8, 'colsample_bylevel': 0.9}\n",
      "\n",
      "Model with rank: 3\n",
      "Mean validation score: 0.836 (std: 0.01917)\n",
      "Parameters: {'subsample': 0.5, 'scale_pos_weight': 4, 'reg_lambda': 0.01, 'reg_alpha': 100, 'n_estimators': 500, 'min_child_weight': 2, 'max_depth': 8, 'max_delta_step': 1, 'learning_rate': 0.5, 'gamma': 0.1, 'colsample_bytree': 0.8, 'colsample_bylevel': 0.9}\n",
      "\n"
     ]
    }
   ],
   "source": [
    "report(random_search.cv_results_,3)"
   ]
  },
  {
   "cell_type": "code",
   "execution_count": 52,
   "id": "724678d6",
   "metadata": {},
   "outputs": [],
   "source": [
    "xgb5=XGBClassifier(learning_rate=0.1,n_estimators=100,min_child_weight=2,gamma=12,max_depth=8,\n",
    "                   scale_pos_weight=1,max_delta_step=0,\n",
    "                   colsample_bylevel= 1.0, colsample_bytree= 0.8, subsample= 0.7\n",
    "                  )"
   ]
  },
  {
   "cell_type": "code",
   "execution_count": 53,
   "id": "b6941bb2",
   "metadata": {},
   "outputs": [],
   "source": [
    "xgb_params={\n",
    "            'reg_lambda':[i/10 for i in range(0,50)],\n",
    "            'reg_alpha':[i/10 for i in range(0,50)]\n",
    "            }"
   ]
  },
  {
   "cell_type": "code",
   "execution_count": 56,
   "id": "853480b5",
   "metadata": {},
   "outputs": [],
   "source": [
    "random_search=RandomizedSearchCV(xgb5,param_distributions=xgb_params,cv=5,n_iter=20,scoring='roc_auc',\n",
    "                                n_jobs=-1,verbose=10)"
   ]
  },
  {
   "cell_type": "code",
   "execution_count": 57,
   "id": "696557a5",
   "metadata": {},
   "outputs": [
    {
     "name": "stdout",
     "output_type": "stream",
     "text": [
      "Fitting 5 folds for each of 20 candidates, totalling 100 fits\n"
     ]
    },
    {
     "data": {
      "text/plain": [
       "RandomizedSearchCV(cv=5,\n",
       "                   estimator=XGBClassifier(base_score=None, booster=None,\n",
       "                                           callbacks=None,\n",
       "                                           colsample_bylevel=1.0,\n",
       "                                           colsample_bynode=None,\n",
       "                                           colsample_bytree=0.8, device=None,\n",
       "                                           early_stopping_rounds=None,\n",
       "                                           enable_categorical=False,\n",
       "                                           eval_metric=None, feature_types=None,\n",
       "                                           gamma=12, grow_policy=None,\n",
       "                                           importance_type=None,\n",
       "                                           interaction_constraints=None,\n",
       "                                           learning_rate=0.1...\n",
       "                                           random_state=None, ...),\n",
       "                   n_iter=20, n_jobs=-1,\n",
       "                   param_distributions={'reg_alpha': [0.0, 0.1, 0.2, 0.3, 0.4,\n",
       "                                                      0.5, 0.6, 0.7, 0.8, 0.9,\n",
       "                                                      1.0, 1.1, 1.2, 1.3, 1.4,\n",
       "                                                      1.5, 1.6, 1.7, 1.8, 1.9,\n",
       "                                                      2.0, 2.1, 2.2, 2.3, 2.4,\n",
       "                                                      2.5, 2.6, 2.7, 2.8, 2.9, ...],\n",
       "                                        'reg_lambda': [0.0, 0.1, 0.2, 0.3, 0.4,\n",
       "                                                       0.5, 0.6, 0.7, 0.8, 0.9,\n",
       "                                                       1.0, 1.1, 1.2, 1.3, 1.4,\n",
       "                                                       1.5, 1.6, 1.7, 1.8, 1.9,\n",
       "                                                       2.0, 2.1, 2.2, 2.3, 2.4,\n",
       "                                                       2.5, 2.6, 2.7, 2.8, 2.9, ...]},\n",
       "                   scoring='roc_auc', verbose=10)"
      ]
     },
     "execution_count": 57,
     "metadata": {},
     "output_type": "execute_result"
    }
   ],
   "source": [
    "random_search.fit(X_train, y_train)"
   ]
  },
  {
   "cell_type": "code",
   "execution_count": 58,
   "id": "128c0b95",
   "metadata": {},
   "outputs": [
    {
     "name": "stdout",
     "output_type": "stream",
     "text": [
      "Model with rank: 1\n",
      "Mean validation score: 0.837 (std: 0.02089)\n",
      "Parameters: {'reg_lambda': 3.8, 'reg_alpha': 0.3}\n",
      "\n",
      "Model with rank: 2\n",
      "Mean validation score: 0.837 (std: 0.02116)\n",
      "Parameters: {'reg_lambda': 2.6, 'reg_alpha': 0.6}\n",
      "\n",
      "Model with rank: 3\n",
      "Mean validation score: 0.837 (std: 0.02092)\n",
      "Parameters: {'reg_lambda': 1.4, 'reg_alpha': 0.8}\n",
      "\n"
     ]
    }
   ],
   "source": [
    "report(random_search.cv_results_, 3)"
   ]
  },
  {
   "cell_type": "code",
   "execution_count": 59,
   "id": "07757379",
   "metadata": {},
   "outputs": [],
   "source": [
    "xgb6=XGBClassifier(learning_rate=0.1,n_estimators=100,min_child_weight=2,gamma=12,max_depth=8,\n",
    "                   scale_pos_weight=1,max_delta_step=0,\n",
    "                   colsample_bylevel= 1.0, colsample_bytree= 0.8, subsample= 0.7,\n",
    "                  reg_lambda=1.8,reg_alpha=0)"
   ]
  },
  {
   "cell_type": "code",
   "execution_count": 61,
   "id": "b4d1cc43",
   "metadata": {},
   "outputs": [
    {
     "data": {
      "text/plain": [
       "XGBClassifier(base_score=None, booster=None, callbacks=None,\n",
       "              colsample_bylevel=1.0, colsample_bynode=None,\n",
       "              colsample_bytree=0.8, device=None, early_stopping_rounds=None,\n",
       "              enable_categorical=False, eval_metric=None, feature_types=None,\n",
       "              gamma=12, grow_policy=None, importance_type=None,\n",
       "              interaction_constraints=None, learning_rate=0.1, max_bin=None,\n",
       "              max_cat_threshold=None, max_cat_to_onehot=None, max_delta_step=0,\n",
       "              max_depth=8, max_leaves=None, min_child_weight=2, missing=nan,\n",
       "              monotone_constraints=None, multi_strategy=None, n_estimators=100,\n",
       "              n_jobs=None, num_parallel_tree=None, random_state=None, ...)"
      ]
     },
     "execution_count": 61,
     "metadata": {},
     "output_type": "execute_result"
    }
   ],
   "source": [
    "xgb6.fit(X_train,y_train)"
   ]
  },
  {
   "cell_type": "code",
   "execution_count": 63,
   "id": "3dcf1bfd",
   "metadata": {},
   "outputs": [
    {
     "name": "stderr",
     "output_type": "stream",
     "text": [
      "[Parallel(n_jobs=-1)]: Using backend LokyBackend with 12 concurrent workers.\n",
      "[Parallel(n_jobs=-1)]: Done   3 out of  10 | elapsed:    0.1s remaining:    0.4s\n",
      "[Parallel(n_jobs=-1)]: Done   5 out of  10 | elapsed:    0.1s remaining:    0.1s\n",
      "[Parallel(n_jobs=-1)]: Done   7 out of  10 | elapsed:    0.1s remaining:    0.0s\n",
      "[Parallel(n_jobs=-1)]: Done  10 out of  10 | elapsed:    0.1s finished\n"
     ]
    },
    {
     "data": {
      "text/plain": [
       "array([0.83733635, 0.84409458, 0.80154549, 0.8086144 , 0.85702471,\n",
       "       0.88402287, 0.83630935, 0.83472015, 0.83279994, 0.83578145])"
      ]
     },
     "execution_count": 63,
     "metadata": {},
     "output_type": "execute_result"
    }
   ],
   "source": [
    "from sklearn.model_selection import cross_val_score\n",
    "\n",
    "cross_val_score(xgb6,X_train,y_train,scoring='roc_auc',verbose=10,n_jobs=-1,cv=10)"
   ]
  }
 ],
 "metadata": {
  "kernelspec": {
   "display_name": "Python 3 (ipykernel)",
   "language": "python",
   "name": "python3"
  },
  "language_info": {
   "codemirror_mode": {
    "name": "ipython",
    "version": 3
   },
   "file_extension": ".py",
   "mimetype": "text/x-python",
   "name": "python",
   "nbconvert_exporter": "python",
   "pygments_lexer": "ipython3",
   "version": "3.9.13"
  }
 },
 "nbformat": 4,
 "nbformat_minor": 5
}
